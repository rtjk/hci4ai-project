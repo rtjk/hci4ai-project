{
  "nbformat": 4,
  "nbformat_minor": 0,
  "metadata": {
    "colab": {
      "provenance": []
    },
    "kernelspec": {
      "name": "python3",
      "display_name": "Python 3"
    },
    "language_info": {
      "name": "python"
    }
  },
  "cells": [
    {
      "cell_type": "code",
      "source": [
        "# hci4ai\n",
        "# saving to disk two pickle files containing 500 confidence levels each\n",
        "# confidence levels correspond to the images in /images\n",
        "# the confidence level is a float between 0 and 1\n",
        "# if the confidence level is > 0.5 the model (model__2023-04-26__22-42-58) predicted pneumonia"
      ],
      "metadata": {
        "id": "QJhaFsIz3V5V"
      },
      "execution_count": null,
      "outputs": []
    },
    {
      "cell_type": "code",
      "execution_count": 1,
      "metadata": {
        "colab": {
          "base_uri": "https://localhost:8080/"
        },
        "id": "yXS-vHGVhSbo",
        "outputId": "9e59f501-3931-4f93-ff12-e3c942a82d42"
      },
      "outputs": [
        {
          "output_type": "stream",
          "name": "stdout",
          "text": [
            "Mounted at /content/drive\n",
            "/content/drive/My Drive/marco_colab_data/hci4ai\n",
            "/content/drive/My Drive/marco_colab_data/hci4ai/export\n",
            "All changes made in this colab session should now be visible in Drive.\n"
          ]
        }
      ],
      "source": [
        "import re\n",
        "import os\n",
        "import random\n",
        "import numpy as np\n",
        "import pandas as pd\n",
        "import tensorflow as tf\n",
        "import matplotlib.pyplot as plt\n",
        "\n",
        "###############################################################################\n",
        "\n",
        "from google.colab import drive\n",
        "drive.mount('/content/drive')\n",
        "%cd '/content/drive/My Drive/marco_colab_data/hci4ai'\n",
        "\n",
        "# load model\n",
        "model_name = 'model__2023-04-26__22-42-58'\n",
        "model = tf.keras.models.load_model(model_name)\n",
        "\n",
        "###############################################################################\n",
        "\n",
        "def get_index_from_filename(filename):\n",
        "  index = filename.split(\"_\")\n",
        "  index = index[-1]\n",
        "  index = index.replace(\".jpg\", \"\")\n",
        "  index = int(index)\n",
        "  return index\n",
        "\n",
        "###############################################################################\n",
        "\n",
        "%cd '/content/drive/My Drive/marco_colab_data/hci4ai/export'\n",
        "\n",
        "path = '/content/drive/My Drive/marco_colab_data/hci4ai/export'\n",
        "files = (file for file in os.listdir(path) if os.path.isfile(os.path.join(path, file)))\n",
        "\n",
        "confidence_p = np.zeros(500)\n",
        "confidence_n = np.zeros(500)\n",
        "\n",
        "for filename in files:\n",
        "  index = get_index_from_filename(filename)\n",
        "  img = tf.keras.preprocessing.image.load_img(filename)\n",
        "  x = tf.expand_dims(img, axis=0)\n",
        "  prediction = model.predict(x, verbose=0)[0]\n",
        "  if 'p_' in filename:\n",
        "    confidence_p[index] = prediction\n",
        "  else:\n",
        "    confidence_n[index] = prediction\n",
        "\n",
        "###############################################################################\n",
        "\n",
        "import pickle\n",
        "\n",
        "with open('confidence/confidence_p.pkl', 'wb') as outp:\n",
        "    pickle.dump(confidence_p, outp, pickle.HIGHEST_PROTOCOL)\n",
        "\n",
        "with open('confidence/confidence_n.pkl', 'wb') as outp:\n",
        "    pickle.dump(confidence_n, outp, pickle.HIGHEST_PROTOCOL)\n",
        "\n",
        "###############################################################################\n",
        "\n",
        "drive.flush_and_unmount()\n",
        "print('All changes made in this colab session should now be visible in Drive.')\n"
      ]
    },
    {
      "cell_type": "code",
      "source": [],
      "metadata": {
        "id": "Yeq9nnaI3y4B"
      },
      "execution_count": null,
      "outputs": []
    }
  ]
}