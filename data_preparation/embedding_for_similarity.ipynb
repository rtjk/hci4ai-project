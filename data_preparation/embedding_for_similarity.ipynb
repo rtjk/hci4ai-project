{
  "nbformat": 4,
  "nbformat_minor": 0,
  "metadata": {
    "colab": {
      "provenance": []
    },
    "kernelspec": {
      "name": "python3",
      "display_name": "Python 3"
    },
    "language_info": {
      "name": "python"
    }
  },
  "cells": [
    {
      "cell_type": "code",
      "source": [
        "# hci4ai\n",
        "# saving to disk two pickle files containing 500 embeddings each\n",
        "# the embeddings correspond to the images in /images\n",
        "# the embedding for an image is a float array of size 512 which coincides with the output of the model layer named \"dense\""
      ],
      "metadata": {
        "id": "uVq0rQqQ6Zp3"
      },
      "execution_count": null,
      "outputs": []
    },
    {
      "cell_type": "code",
      "execution_count": 1,
      "metadata": {
        "id": "3Pcoe9VzIG8j",
        "colab": {
          "base_uri": "https://localhost:8080/"
        },
        "outputId": "dce0ca5d-dccc-476a-e403-49ccde1c05ab"
      },
      "outputs": [
        {
          "output_type": "stream",
          "name": "stdout",
          "text": [
            "Mounted at /content/drive\n",
            "/content/drive/My Drive/marco_colab_data/hci4ai\n",
            "/content/drive/My Drive/marco_colab_data/hci4ai/export\n",
            "All changes made in this colab session should now be visible in Drive.\n"
          ]
        }
      ],
      "source": [
        "import re\n",
        "import os\n",
        "import random\n",
        "import numpy as np\n",
        "import pandas as pd\n",
        "import tensorflow as tf\n",
        "import matplotlib.pyplot as plt\n",
        "\n",
        "###############################################################################\n",
        "\n",
        "from google.colab import drive\n",
        "drive.mount('/content/drive')\n",
        "%cd '/content/drive/My Drive/marco_colab_data/hci4ai'\n",
        "\n",
        "# load model\n",
        "model_name = 'model__2023-04-26__22-42-58'\n",
        "model = tf.keras.models.load_model(model_name)\n",
        "\n",
        "###############################################################################\n",
        "\n",
        "import matplotlib.cm as cm\n",
        "\n",
        "def get_img_array(img_path, size):\n",
        "    img = tf.keras.preprocessing.image.load_img(img_path, target_size=size)\n",
        "    array = tf.keras.preprocessing.image.img_to_array(img)\n",
        "    array = np.expand_dims(array, axis=0)\n",
        "    return array\n",
        "\n",
        "def make_embedding(img_array, model, last_conv_layer_name, pred_index=None):\n",
        "\n",
        "    grad_model = tf.keras.models.Model(\n",
        "        [model.inputs], [model.get_layer(last_conv_layer_name).output, model.output]\n",
        "    )\n",
        "\n",
        "    with tf.GradientTape() as tape:\n",
        "        last_conv_layer_output, preds = grad_model(img_array)\n",
        "        if pred_index is None:\n",
        "            pred_index = tf.argmax(preds[0])\n",
        "        class_channel = preds[:, pred_index]\n",
        "\n",
        "    embedding = tf.squeeze(last_conv_layer_output).numpy()\n",
        "    \n",
        "    return embedding\n",
        "\n",
        "###############################################################################\n",
        "\n",
        "def get_index_from_filename(filename):\n",
        "  index = filename.split(\"_\")\n",
        "  index = index[-1]\n",
        "  index = index.replace(\".jpg\", \"\")\n",
        "  index = int(index)\n",
        "  return index\n",
        "\n",
        "###############################################################################\n",
        "\n",
        "IMG_SIZE = (180, 180)\n",
        "\n",
        "%cd '/content/drive/My Drive/marco_colab_data/hci4ai/export'\n",
        "\n",
        "path = '/content/drive/My Drive/marco_colab_data/hci4ai/export'\n",
        "files = (file for file in os.listdir(path) if os.path.isfile(os.path.join(path, file)))\n",
        "\n",
        "last_conv_layer_name = \"dense\"\n",
        "\n",
        "embeddings_p = np.zeros([500,512])\n",
        "embeddings_n = np.zeros([500,512])\n",
        "\n",
        "for filename in files:\n",
        "  index = get_index_from_filename(filename)\n",
        "  img_array = get_img_array(filename, size=IMG_SIZE)\n",
        "  embedding = make_embedding(img_array, model, last_conv_layer_name)\n",
        "  if 'p_' in filename:\n",
        "    embeddings_p[index] = embedding\n",
        "  else:\n",
        "    embeddings_n[index] = embedding\n",
        "\n",
        "###############################################################################\n",
        "\n",
        "import pickle\n",
        "\n",
        "with open('embeddings/embeddings_p.pkl', 'wb') as outp:\n",
        "    pickle.dump(embeddings_p, outp, pickle.HIGHEST_PROTOCOL)\n",
        "\n",
        "with open('embeddings/embeddings_n.pkl', 'wb') as outp:\n",
        "    pickle.dump(embeddings_n, outp, pickle.HIGHEST_PROTOCOL)\n",
        "\n",
        "###############################################################################\n",
        "\n",
        "drive.flush_and_unmount()\n",
        "print('All changes made in this colab session should now be visible in Drive.')"
      ]
    },
    {
      "cell_type": "code",
      "source": [],
      "metadata": {
        "id": "SMKJW66t7B0s"
      },
      "execution_count": null,
      "outputs": []
    }
  ]
}