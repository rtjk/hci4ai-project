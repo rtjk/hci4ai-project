{
  "nbformat": 4,
  "nbformat_minor": 0,
  "metadata": {
    "colab": {
      "provenance": []
    },
    "kernelspec": {
      "name": "python3",
      "display_name": "Python 3"
    },
    "language_info": {
      "name": "python"
    }
  },
  "cells": [
    {
      "cell_type": "code",
      "source": [
        "# hci4ai\n",
        "# saving to disk 1000 jpeg heatmaps produced using gradcam\n",
        "# the heatmaps correspond to the images in /images\n",
        "# the only parameter for gradcam is \"last_conv_layer_name\" which is set to \"dropout_1\""
      ],
      "metadata": {
        "id": "EucvaWGD5Ltt"
      },
      "execution_count": null,
      "outputs": []
    },
    {
      "cell_type": "code",
      "execution_count": 1,
      "metadata": {
        "id": "3Pcoe9VzIG8j",
        "colab": {
          "base_uri": "https://localhost:8080/"
        },
        "outputId": "bcda168f-cdbf-4e9c-d45a-be5d2d559753"
      },
      "outputs": [
        {
          "output_type": "stream",
          "name": "stdout",
          "text": [
            "Mounted at /content/drive\n",
            "/content/drive/My Drive/marco_colab_data/hci4ai\n",
            "/content/drive/My Drive/marco_colab_data/hci4ai/export\n"
          ]
        },
        {
          "output_type": "stream",
          "name": "stderr",
          "text": [
            "<ipython-input-1-ec5c0f92ad76>:61: MatplotlibDeprecationWarning: The get_cmap function was deprecated in Matplotlib 3.7 and will be removed two minor releases later. Use ``matplotlib.colormaps[name]`` or ``matplotlib.colormaps.get_cmap(obj)`` instead.\n",
            "  jet = cm.get_cmap(\"jet\")\n"
          ]
        },
        {
          "output_type": "stream",
          "name": "stdout",
          "text": [
            "All changes made in this colab session should now be visible in Drive.\n"
          ]
        }
      ],
      "source": [
        "import re\n",
        "import os\n",
        "import random\n",
        "import numpy as np\n",
        "import pandas as pd\n",
        "import tensorflow as tf\n",
        "import matplotlib.pyplot as plt\n",
        "\n",
        "###############################################################################\n",
        "\n",
        "from google.colab import drive\n",
        "drive.mount('/content/drive')\n",
        "%cd '/content/drive/My Drive/marco_colab_data/hci4ai'\n",
        "\n",
        "# load model\n",
        "model_name = 'model__2023-04-26__22-42-58'\n",
        "model = tf.keras.models.load_model(model_name)\n",
        "\n",
        "###############################################################################\n",
        "\n",
        "import matplotlib.cm as cm\n",
        "\n",
        "def get_img_array(img_path, size):\n",
        "    img = tf.keras.preprocessing.image.load_img(img_path, target_size=size)\n",
        "    array = tf.keras.preprocessing.image.img_to_array(img)\n",
        "    array = np.expand_dims(array, axis=0)\n",
        "    return array\n",
        "\n",
        "def make_gradcam_heatmap(img_array, model, last_conv_layer_name, pred_index=None):\n",
        "\n",
        "    grad_model = tf.keras.models.Model(\n",
        "        [model.inputs], [model.get_layer(last_conv_layer_name).output, model.output]\n",
        "    )\n",
        "\n",
        "    with tf.GradientTape() as tape:\n",
        "        last_conv_layer_output, preds = grad_model(img_array)\n",
        "        if pred_index is None:\n",
        "            pred_index = tf.argmax(preds[0])\n",
        "        class_channel = preds[:, pred_index]\n",
        "\n",
        "    grads = tape.gradient(class_channel, last_conv_layer_output)\n",
        "\n",
        "    pooled_grads = tf.reduce_mean(grads, axis=(0, 1, 2))\n",
        "\n",
        "    last_conv_layer_output = last_conv_layer_output[0]\n",
        "    heatmap = last_conv_layer_output @ pooled_grads[..., tf.newaxis]\n",
        "    heatmap = tf.squeeze(heatmap)\n",
        "\n",
        "    heatmap = tf.maximum(heatmap, 0) / tf.math.reduce_max(heatmap)\n",
        "    return heatmap.numpy()\n",
        "\n",
        "###############################################################################\n",
        "\n",
        "def save_gradcam(img_path, heatmap, alpha=0.4):\n",
        "\n",
        "    img = tf.keras.preprocessing.image.load_img(img_path)\n",
        "    img = tf.keras.preprocessing.image.img_to_array(img)\n",
        "\n",
        "    heatmap = np.uint8(255 * heatmap)\n",
        "\n",
        "    jet = cm.get_cmap(\"jet\")\n",
        "\n",
        "    jet_colors = jet(np.arange(256))[:, :3]\n",
        "    jet_heatmap = jet_colors[heatmap]\n",
        "\n",
        "    jet_heatmap = tf.keras.preprocessing.image.array_to_img(jet_heatmap)\n",
        "    jet_heatmap = jet_heatmap.resize((img.shape[1], img.shape[0]))\n",
        "    jet_heatmap = tf.keras.preprocessing.image.img_to_array(jet_heatmap)\n",
        "\n",
        "    superimposed_img = jet_heatmap * alpha + img\n",
        "    superimposed_img = tf.keras.preprocessing.image.array_to_img(superimposed_img)\n",
        "\n",
        "    cam_path = \"heatmap/h_\" + img_path\n",
        "    superimposed_img.save(cam_path)\n",
        "\n",
        "###############################################################################\n",
        "\n",
        "IMG_SIZE = (180, 180)\n",
        "\n",
        "%cd '/content/drive/My Drive/marco_colab_data/hci4ai/export'\n",
        "\n",
        "path = '/content/drive/My Drive/marco_colab_data/hci4ai/export'\n",
        "files = (file for file in os.listdir(path) if os.path.isfile(os.path.join(path, file)))\n",
        "\n",
        "last_conv_layer_name = \"dropout_1\"\n",
        "\n",
        "for filename in files:\n",
        "  img_array = get_img_array(filename, size=IMG_SIZE)\n",
        "  heatmap = make_gradcam_heatmap(img_array, model, last_conv_layer_name)\n",
        "  save_gradcam(filename, heatmap)\n",
        "\n",
        "###############################################################################\n",
        "\n",
        "drive.flush_and_unmount()\n",
        "print('All changes made in this colab session should now be visible in Drive.')\n"
      ]
    },
    {
      "cell_type": "code",
      "source": [],
      "metadata": {
        "id": "jY4tHvoSxSpS"
      },
      "execution_count": null,
      "outputs": []
    }
  ]
}